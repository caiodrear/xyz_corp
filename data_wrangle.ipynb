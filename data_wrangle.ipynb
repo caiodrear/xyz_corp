{
 "cells": [
  {
   "cell_type": "code",
   "execution_count": 1,
   "metadata": {},
   "outputs": [],
   "source": [
    "import pandas as pd\n",
    "import datetime as dt\n",
    "import numpy as np\n",
    "import matplotlib.pyplot as plt\n",
    "\n",
    "from sklearn.preprocessing import StandardScaler\n",
    "from sklearn.preprocessing import OneHotEncoder\n",
    "\n",
    "from sklearn.ensemble import RandomForestClassifier\n",
    "\n",
    "from sklearn.metrics import classification_report, accuracy_score, roc_curve, roc_auc_score, auc\n",
    "\n",
    "pd.set_option(\"display.max.columns\", None)"
   ]
  },
  {
   "cell_type": "code",
   "execution_count": 9,
   "metadata": {},
   "outputs": [
    {
     "name": "stderr",
     "output_type": "stream",
     "text": [
      "C:\\Users\\Caio\\AppData\\Local\\Temp\\ipykernel_10544\\3180723633.py:1: DtypeWarning: Columns (17,45,53) have mixed types. Specify dtype option on import or set low_memory=False.\n",
      "  data = pd.read_table('data/XYZCorp_LendingData.txt')\n"
     ]
    }
   ],
   "source": [
    "data = pd.read_table('data/XYZCorp_LendingData.txt')\n",
    "data.to_csv('data/XYZCorp_LendingData.csv', index = False)"
   ]
  },
  {
   "cell_type": "code",
   "execution_count": 2,
   "metadata": {},
   "outputs": [
    {
     "name": "stderr",
     "output_type": "stream",
     "text": [
      "C:\\Users\\Caio\\AppData\\Local\\Temp\\ipykernel_4276\\2348233518.py:1: DtypeWarning: Columns (17,45,53) have mixed types. Specify dtype option on import or set low_memory=False.\n",
      "  data = pd.read_csv('data/XYZCorp_LendingData.csv', parse_dates = ['issue_d', 'earliest_cr_line', 'last_credit_pull_d'])\n"
     ]
    }
   ],
   "source": [
    "data = pd.read_csv('data/XYZCorp_LendingData.csv', parse_dates = ['issue_d', 'earliest_cr_line', 'last_credit_pull_d'])\n",
    "\n",
    "data = data[data['application_type'] == 'INDIVIDUAL'].reset_index(drop = True).copy()\n",
    "data['days_w_cr'] = (data['issue_d'] - data['earliest_cr_line']).dt.days\n",
    "\n",
    "for col in ['mths_since_last_delinq', 'mths_since_last_major_derog']:\n",
    "    data[col + '_flag'] = data[col].notna().astype(int)\n",
    "    data[col].fillna(-1, inplace = True)\n",
    "\n",
    "data['emp_length'].fillna('Unknown', inplace = True)\n",
    "data['delinq_2yrs'] = data['delinq_2yrs'].astype(int)\n",
    "data['mths_since_last_record'].fillna(-1, inplace = True)\n",
    "\n",
    "model_attributes = ['emp_length', 'home_ownership', 'annual_inc',\n",
    "                    'verification_status', 'zip_code', 'addr_state', 'dti',\n",
    "                    'delinq_2yrs', 'days_w_cr', 'inq_last_6mths',\n",
    "                    'mths_since_last_record', 'pub_rec','open_acc',\n",
    "                    'total_acc', 'purpose', 'mths_since_last_delinq',\n",
    "                    'mths_since_last_major_derog', 'mths_since_last_delinq_flag', 'mths_since_last_major_derog_flag']\n",
    "\n",
    "target_attributes = ['default_ind', 'recoveries']\n",
    "\n",
    "application_attributes = ['desc', 'purpose', 'title']\n",
    "\n",
    "inst_attributes = ['total_bal_il', 'il_util']\n",
    "rev_attributes = ['revol_bal', 'revol_util', 'total_rev_hi_limv', 'max_bal_bc']\n",
    "account_attributes =  ['tot_cur_bal', 'all_util', 'acc_now_delinq']\n",
    "\n",
    "acc_activity = ['open_acc_6m', 'open_il_6m', 'open_il_12m', 'open_il_24m',\n",
    "                'mths_since_rcnt_il', 'open_rv_12m', 'open_rv_24m', 'total_cu_tl']\n",
    "collections = ['collections_12_mths_ex_med', 'tot_coll_amt']\n",
    "\n",
    "loan_attributes = ['loan_amnt', 'funded_amnt', 'funded_amnt_inv', 'term',\n",
    "                   'int_rate', 'installment', 'grade', 'sub_grade', 'issue_d',\n",
    "                   'pymnt_plan', 'initial_list_status', 'out_prncp', 'out_prncp_inv',\n",
    "                   'total_pymnt', 'total_pymnt_inv', 'total_rec_prncp', 'total_rec_int',\n",
    "                   'total_rec_late_fee', 'recoveries', 'collection_recovery_fee',\n",
    "                   'last_pymnt_d', 'last_pymnt_amnt', 'next_pymnt_d',\n",
    "                   'last_credit_pull_d', 'policy_code']\n",
    "\n",
    "non_train_attributes = ['inq_fi', 'inq_last_12m', 'dti_joint', 'annual_inc_joint', 'verified_status_joint'] #attributes only not NaN in test data"
   ]
  },
  {
   "cell_type": "code",
   "execution_count": 3,
   "metadata": {},
   "outputs": [],
   "source": [
    "encoding_cols = ['emp_length', 'home_ownership', 'verification_status', 'zip_code', 'addr_state', 'purpose']\n",
    "\n",
    "encoder = OneHotEncoder()\n",
    "encoded_data = pd.DataFrame(encoder.fit_transform(data[encoding_cols]).toarray())\n",
    "\n",
    "test = data[model_attributes + ['default_ind', 'issue_d']].drop(encoding_cols, axis = 1).join(encoded_data)\n",
    "test.columns = test.columns.map(str)\n"
   ]
  },
  {
   "cell_type": "code",
   "execution_count": 4,
   "metadata": {},
   "outputs": [],
   "source": [
    "#test train split\n",
    "\n",
    "train_data = test[test['issue_d'] < dt.datetime(2015,6,1)].copy()\n",
    "test_data = test[test['issue_d'] >= dt.datetime(2015,6,1)].copy()\n"
   ]
  },
  {
   "cell_type": "code",
   "execution_count": 5,
   "metadata": {},
   "outputs": [],
   "source": [
    "def model_train(encoded_data, save = False):\n",
    "    \n",
    "    model = RandomForestClassifier()\n",
    "    \n",
    "    model.fit(encoded_data.drop(['default_ind', 'issue_d'], axis = 1), encoded_data['default_ind'])\n",
    "    return model\n",
    "\n",
    "model = model_train(train_data)"
   ]
  },
  {
   "cell_type": "code",
   "execution_count": 10,
   "metadata": {},
   "outputs": [
    {
     "data": {
      "text/plain": [
       "0    552822\n",
       "1     46156\n",
       "Name: default_ind, dtype: int64"
      ]
     },
     "execution_count": 10,
     "metadata": {},
     "output_type": "execute_result"
    }
   ],
   "source": [
    "train_data['default_ind'].value_counts()\n"
   ]
  },
  {
   "cell_type": "code",
   "execution_count": 26,
   "metadata": {},
   "outputs": [
    {
     "name": "stdout",
     "output_type": "stream",
     "text": [
      "              precision    recall  f1-score   support\n",
      "\n",
      "           0       1.00      1.00      1.00    256238\n",
      "           1       0.00      0.00      0.00       311\n",
      "\n",
      "    accuracy                           1.00    256549\n",
      "   macro avg       0.50      0.50      0.50    256549\n",
      "weighted avg       1.00      1.00      1.00    256549\n",
      "\n",
      "no defaults: roc auc = 0.500\n",
      "model prediction: roc auc = 0.610\n"
     ]
    },
    {
     "data": {
      "image/png": "[encoded data removed]",
      "text/plain": [
       "<Figure size 432x288 with 1 Axes>"
      ]
     },
     "metadata": {
      "needs_background": "light"
     },
     "output_type": "display_data"
    }
   ],
   "source": [
    "def model_eval(test_data, model):\n",
    "    \n",
    "    y_test = test_data['default_ind']\n",
    "    X_test = test_data.drop(['default_ind', 'issue_d'], axis = 1)\n",
    "\n",
    "#-----------------predictions-----------------------    \n",
    "    prob_default = model.predict_proba(X_test)[:,1]\n",
    "#-------------------metrics-------------------------    \n",
    "    y_pred = model.predict(X_test)\n",
    "    print(classification_report(y_test,y_pred))\n",
    "\n",
    "    false_auc = roc_auc_score(y_test, y_test.clip(upper = False))\n",
    "    model_auc = roc_auc_score(y_test, prob_default)\n",
    "    \n",
    "    print('no defaults: roc auc = %.3f' % (false_auc))\n",
    "    print('model prediction: roc auc = %.3f' % (model_auc))\n",
    "    \n",
    "    false_fpr, false_tpr, _ = roc_curve(y_test, y_test.clip(upper = False))\n",
    "    model_fpr, model_tpr, _ = roc_curve(y_test, prob_default)\n",
    "\n",
    "    plt.plot(false_fpr, false_tpr, linestyle = '--', label = 'no defaults')\n",
    "    plt.plot(model_fpr, model_tpr, marker = '.', label = 'model prediction')\n",
    "\n",
    "    plt.xlabel('false positive rate')\n",
    "    plt.ylabel('true positive rate')\n",
    "    plt.legend()\n",
    "    plt.show()\n",
    "\n",
    "    res = test_data.copy()\n",
    "\n",
    "    res['y_pred'] = y_pred\n",
    "\n",
    "    return res['y_pred']\n",
    "\n",
    "y_pred = model_eval(test_data, model)"
   ]
  },
  {
   "cell_type": "code",
   "execution_count": 27,
   "metadata": {},
   "outputs": [
    {
     "data": {
      "text/plain": [
       "0    256547\n",
       "1         2\n",
       "Name: y_pred, dtype: int64"
      ]
     },
     "execution_count": 27,
     "metadata": {},
     "output_type": "execute_result"
    }
   ],
   "source": [
    "y_pred.value_counts()"
   ]
  }
 ],
 "metadata": {
  "interpreter": {
   "hash": "397704579725e15f5c7cb49fe5f0341eb7531c82d19f2c29d197e8b64ab5776b"
  },
  "kernelspec": {
   "display_name": "Python 3.9.7 64-bit",
   "language": "python",
   "name": "python3"
  },
  "language_info": {
   "codemirror_mode": {
    "name": "ipython",
    "version": 3
   },
   "file_extension": ".py",
   "mimetype": "text/x-python",
   "name": "python",
   "nbconvert_exporter": "python",
   "pygments_lexer": "ipython3",
   "version": "3.9.5"
  },
  "orig_nbformat": 4
 },
 "nbformat": 4,
 "nbformat_minor": 2
}
